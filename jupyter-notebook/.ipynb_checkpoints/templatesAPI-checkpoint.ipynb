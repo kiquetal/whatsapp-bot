{
 "cells": [
  {
   "cell_type": "code",
   "execution_count": 4,
   "id": "monthly-undergraduate",
   "metadata": {},
   "outputs": [],
   "source": [
    "import requests\n",
    "import json"
   ]
  },
  {
   "cell_type": "markdown",
   "id": "subjective-carnival",
   "metadata": {},
   "source": [
    "#### Create template\n",
    "\n",
    "Post http://localhost:4000/templates\n"
   ]
  },
  {
   "cell_type": "code",
   "execution_count": 29,
   "id": "headed-stanford",
   "metadata": {},
   "outputs": [
    {
     "name": "stdout",
     "output_type": "stream",
     "text": [
      "201\n",
      "{'message_text': 'hola-2', 'user_id': '5', 'template_name': 'template1', 'someKey': '21', 'template_id': '0c5b1a8e-0eed-4e75-84c6-478a55efdd40'}\n"
     ]
    }
   ],
   "source": [
    "data = {\n",
    " \"message_text\":\"hola-2\",\n",
    " \"user_id\":\"5\",\n",
    " \"template_name\":\"template1\",\n",
    " \"someKey\":\"21\",\n",
    "}\n",
    "data_json = json.dumps(data)\n",
    "\n",
    "r = requests.post(\"http://localhost:4000/templates\", json=data_json)\n",
    "print(r.status_code)\n",
    "print(r.json())"
   ]
  },
  {
   "cell_type": "markdown",
   "id": "stone-uncertainty",
   "metadata": {},
   "source": [
    "Copy template_if from above and send again the request with a new attribute idempotent_key, it should return the same data."
   ]
  },
  {
   "cell_type": "code",
   "execution_count": 30,
   "id": "nuclear-willow",
   "metadata": {},
   "outputs": [
    {
     "name": "stdout",
     "output_type": "stream",
     "text": [
      "200\n",
      "{'message_text': 'hola-2', 'template_name': 'template1', 'template_id': '0c5b1a8e-0eed-4e75-84c6-478a55efdd40', 'user_id': '5', 'someKey': '21'}\n"
     ]
    }
   ],
   "source": [
    "data = {\n",
    " \"message_text\":\"hola-2\",\n",
    " \"user_id\":\"5\",\n",
    " \"template_name\":\"template1\",\n",
    " \"someKey\":\"21\",\n",
    " \"idempotent_key\":\"0c5b1a8e-0eed-4e75-84c6-478a55efdd40\"   \n",
    "}\n",
    "data_json = json.dumps(data)\n",
    "\n",
    "r = requests.post(\"http://localhost:4000/templates\", json=data_json)\n",
    "print(r.status_code)\n",
    "print(r.json())"
   ]
  },
  {
   "cell_type": "markdown",
   "id": "solid-louis",
   "metadata": {},
   "source": [
    "#### Edit Tempplate\n",
    "PUT http://localhost:4000/templates/5/0c5b1a8e-0eed-4e75-84c6-478a55efdd40"
   ]
  },
  {
   "cell_type": "code",
   "execution_count": 24,
   "id": "polar-career",
   "metadata": {},
   "outputs": [
    {
     "name": "stdout",
     "output_type": "stream",
     "text": [
      "200\n",
      "{'message': {'Attributes': {'message_text': 'modify template', 'template_name': 'template1-modified', 'template_id': 'cf4cddf9-0cdf-4190-8a0d-ef34bb5451af', 'user_id': '5', 'someKey': '21'}}}\n"
     ]
    }
   ],
   "source": [
    "data = {\n",
    " \"message_text\":\"modify template\",\n",
    " \"template_name\":\"template1-modified\",  \n",
    "}\n",
    "data_json = json.dumps(data)\n",
    "\n",
    "r = requests.put(\"http://localhost:4000/templates/5/0c5b1a8e-0eed-4e75-84c6-478a55efdd40\", json=data_json)\n",
    "print(r.status_code)\n",
    "print(r.json())"
   ]
  },
  {
   "cell_type": "markdown",
   "id": "stretch-discharge",
   "metadata": {},
   "source": [
    "#### Get Template\n",
    "GET http://localhost:4000/templates/5/0c5b1a8e-0eed-4e75-84c6-478a55efdd40"
   ]
  },
  {
   "cell_type": "code",
   "execution_count": 31,
   "id": "spoken-kentucky",
   "metadata": {},
   "outputs": [
    {
     "name": "stdout",
     "output_type": "stream",
     "text": [
      "200\n",
      "{'message': {'message_text': 'hola-2', 'template_name': 'template1', 'template_id': '0c5b1a8e-0eed-4e75-84c6-478a55efdd40', 'user_id': '5', 'someKey': '21'}}\n"
     ]
    }
   ],
   "source": [
    "r = requests.get(\"http://localhost:4000/templates/5/0c5b1a8e-0eed-4e75-84c6-478a55efdd40\")\n",
    "print(r.status_code)\n",
    "print(r.json())"
   ]
  },
  {
   "cell_type": "markdown",
   "id": "loaded-trace",
   "metadata": {},
   "source": [
    "#### Delete Template\n",
    "\n",
    "DELETE http://localhost:4000/templates/5/cf4cddf9-0cdf-4190-8a0d-ef34bb5451af"
   ]
  },
  {
   "cell_type": "code",
   "execution_count": 27,
   "id": "certified-kentucky",
   "metadata": {},
   "outputs": [
    {
     "name": "stdout",
     "output_type": "stream",
     "text": [
      "200\n",
      "{'message': 'Template: cf4cddf9-0cdf-4190-8a0d-ef34bb5451af removed'}\n"
     ]
    }
   ],
   "source": [
    "r = requests.delete(\"http://localhost:4000/templates/5/cf4cddf9-0cdf-4190-8a0d-ef34bb5451af\")\n",
    "print(r.status_code)\n",
    "print(r.json())"
   ]
  },
  {
   "cell_type": "markdown",
   "id": "pursuant-mercy",
   "metadata": {},
   "source": [
    "#### List All templates by User\n",
    "\n",
    "GET http://localhost:4000/templates/5"
   ]
  },
  {
   "cell_type": "code",
   "execution_count": 33,
   "id": "sexual-classroom",
   "metadata": {},
   "outputs": [
    {
     "name": "stdout",
     "output_type": "stream",
     "text": [
      "200\n",
      "{'user': '5', 'message': [{'message_text': 'hola-2', 'template_name': 'template1', 'template_id': '0c5b1a8e-0eed-4e75-84c6-478a55efdd40'}, {'message_text': 'hola-2', 'template_name': 'template1', 'template_id': '25ea7af4-9d0a-4c57-9857-90b20cf96901'}, {'message_text': 'hola-2', 'template_name': 'template1', 'template_id': '715dbb29-dc8d-48d1-a18b-fdd1513c8299'}, {'message_text': 'hola-2', 'template_name': 'template1', 'template_id': '9c78b1d2-dec3-4673-b5e6-e8dbef784a04'}, {'message_text': 'hola-2', 'template_name': 'template1', 'template_id': 'aa15875a-dd40-441e-a5fb-7b5351af8cd1'}, {'message_text': 'hola', 'template_name': 'template1', 'template_id': 'b5959fbd-293f-41f8-8584-853d2b6db020'}, {'message_text': 'hola-2', 'template_name': 'template1', 'template_id': 'e6d654dd-ba38-4669-8848-74772eb2e7f2'}]}\n"
     ]
    }
   ],
   "source": [
    "r = requests.get(\"http://localhost:4000/templates/5\")\n",
    "print(r.status_code)\n",
    "print(r.json())"
   ]
  },
  {
   "cell_type": "code",
   "execution_count": null,
   "id": "tender-variation",
   "metadata": {},
   "outputs": [],
   "source": []
  }
 ],
 "metadata": {
  "kernelspec": {
   "display_name": "Python 3",
   "language": "python",
   "name": "python3"
  },
  "language_info": {
   "codemirror_mode": {
    "name": "ipython",
    "version": 3
   },
   "file_extension": ".py",
   "mimetype": "text/x-python",
   "name": "python",
   "nbconvert_exporter": "python",
   "pygments_lexer": "ipython3",
   "version": "3.8.6"
  }
 },
 "nbformat": 4,
 "nbformat_minor": 5
}
