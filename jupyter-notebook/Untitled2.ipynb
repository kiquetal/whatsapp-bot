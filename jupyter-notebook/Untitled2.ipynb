{
 "cells": [
  {
   "cell_type": "code",
   "execution_count": 4,
   "id": "spoken-special",
   "metadata": {},
   "outputs": [],
   "source": [
    "import requests\n",
    "import json"
   ]
  },
  {
   "cell_type": "markdown",
   "id": "talented-receiver",
   "metadata": {},
   "source": [
    "#### Create template\n",
    "\n",
    "Post http://localhost:4000/templates\n"
   ]
  },
  {
   "cell_type": "code",
   "execution_count": 19,
   "id": "covered-rotation",
   "metadata": {},
   "outputs": [
    {
     "name": "stdout",
     "output_type": "stream",
     "text": [
      "200\n",
      "{'message_text': 'hola-2', 'template_name': 'template1', 'template_id': 'cf4cddf9-0cdf-4190-8a0d-ef34bb5451af', 'user_id': '5', 'someKey': '21'}\n"
     ]
    }
   ],
   "source": [
    "data = {\n",
    " \"message_text\":\"hola-2\",\n",
    " \"user_id\":\"5\",\n",
    " \"template_name\":\"template1\",\n",
    " \"someKey\":\"21\",\n",
    "}\n",
    "data_json = json.dumps(data)\n",
    "\n",
    "r = requests.post(\"http://localhost:4000/templates\", json=data_json)\n",
    "print(r.status_code)\n",
    "print(r.json())"
   ]
  },
  {
   "cell_type": "markdown",
   "id": "tamil-clerk",
   "metadata": {},
   "source": [
    "Copy template_if from above and send again the request with a new attribute idempotent_key, it should return the same data from "
   ]
  },
  {
   "cell_type": "code",
   "execution_count": null,
   "id": "metallic-moral",
   "metadata": {},
   "outputs": [],
   "source": [
    "data = {\n",
    " \"message_text\":\"hola-2\",\n",
    " \"user_id\":\"5\",\n",
    " \"template_name\":\"template1\",\n",
    " \"someKey\":\"21\",\n",
    " \"idempotent_key\":\"cf4cddf9-0cdf-4190-8a0d-ef34bb5451af\"   \n",
    "}\n",
    "data_json = json.dumps(data)\n",
    "\n",
    "r = requests.post(\"http://localhost:4000/templates\", json=data_json)\n",
    "print(r.status_code)\n",
    "print(r.json())"
   ]
  },
  {
   "cell_type": "code",
   "execution_count": null,
   "id": "binary-notebook",
   "metadata": {},
   "outputs": [],
   "source": []
  }
 ],
 "metadata": {
  "kernelspec": {
   "display_name": "Python 3",
   "language": "python",
   "name": "python3"
  },
  "language_info": {
   "codemirror_mode": {
    "name": "ipython",
    "version": 3
   },
   "file_extension": ".py",
   "mimetype": "text/x-python",
   "name": "python",
   "nbconvert_exporter": "python",
   "pygments_lexer": "ipython3",
   "version": "3.8.6"
  }
 },
 "nbformat": 4,
 "nbformat_minor": 5
}
